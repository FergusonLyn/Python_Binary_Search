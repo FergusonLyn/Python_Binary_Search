{
 "cells": [
  {
   "cell_type": "code",
   "execution_count": 1,
   "id": "6ece6896",
   "metadata": {},
   "outputs": [],
   "source": [
    "import math"
   ]
  },
  {
   "cell_type": "code",
   "execution_count": 2,
   "id": "4d23d2ab",
   "metadata": {},
   "outputs": [],
   "source": [
    "def locate_card(cards,query):\n",
    "    pass"
   ]
  },
  {
   "cell_type": "code",
   "execution_count": 3,
   "id": "7fd6b8bc",
   "metadata": {},
   "outputs": [],
   "source": [
    "#sample test_case\n",
    "cards = [13, 11,10,7,4,3,2,1]\n",
    "query = 7\n",
    "output = 3"
   ]
  },
  {
   "cell_type": "code",
   "execution_count": 5,
   "id": "0b5e515b",
   "metadata": {},
   "outputs": [
    {
     "name": "stdout",
     "output_type": "stream",
     "text": [
      "None\n"
     ]
    }
   ],
   "source": [
    "result = locate_card(cards,query)\n",
    "print(result)"
   ]
  },
  {
   "cell_type": "code",
   "execution_count": 6,
   "id": "08cde138",
   "metadata": {},
   "outputs": [
    {
     "data": {
      "text/plain": [
       "False"
      ]
     },
     "execution_count": 6,
     "metadata": {},
     "output_type": "execute_result"
    }
   ],
   "source": [
    "result == output"
   ]
  },
  {
   "cell_type": "code",
   "execution_count": 7,
   "id": "a331944c",
   "metadata": {},
   "outputs": [],
   "source": [
    "#representing case as a dictionary\n",
    "test = {\n",
    "    'input': {\n",
    "        'cards': [13, 11,10,7,4,3,2,1],\n",
    "        'query': 7\n",
    "    },\n",
    "    'output': 3\n",
    "}"
   ]
  },
  {
   "cell_type": "code",
   "execution_count": 8,
   "id": "65767f8a",
   "metadata": {},
   "outputs": [
    {
     "data": {
      "text/plain": [
       "False"
      ]
     },
     "execution_count": 8,
     "metadata": {},
     "output_type": "execute_result"
    }
   ],
   "source": [
    "locate_card(**test['input']) == test['output']"
   ]
  },
  {
   "cell_type": "code",
   "execution_count": 9,
   "id": "a6ea19b0",
   "metadata": {},
   "outputs": [],
   "source": [
    "tests = []"
   ]
  },
  {
   "cell_type": "code",
   "execution_count": 20,
   "id": "f4c7d0b3",
   "metadata": {},
   "outputs": [],
   "source": [
    "#example using binary search\n",
    "def locate_card(cards,query):\n",
    "    low =  0\n",
    "    upp =  len(cards) - 1\n",
    "    mid = 24\n",
    "    \n",
    "    while mid != low:\n",
    "        mid =  (low + upp) // 2\n",
    "        if cards[mid] < query :\n",
    "            low = mid + 1\n",
    "        elif cards[mid] > query :\n",
    "            upp = mid - 1\n",
    "        elif cards[mid] == query:\n",
    "            print(f\"the value {query} is in position {mid}\")\n",
    "            break\n",
    "        else:\n",
    "            print(\"query number cannot be found\")\n",
    "            break\n",
    "        \n",
    "    "
   ]
  },
  {
   "cell_type": "code",
   "execution_count": 21,
   "id": "d16af8c0",
   "metadata": {},
   "outputs": [
    {
     "name": "stdout",
     "output_type": "stream",
     "text": [
      "the value 5 is in position 1\n"
     ]
    }
   ],
   "source": [
    "cards = [1,5,10,15,20,32,88]\n",
    "query = 5\n",
    "locate_card(cards,query)"
   ]
  },
  {
   "cell_type": "code",
   "execution_count": 22,
   "id": "a00a1a5b",
   "metadata": {},
   "outputs": [
    {
     "name": "stdout",
     "output_type": "stream",
     "text": [
      "the value 77 is in position 6\n"
     ]
    }
   ],
   "source": [
    "cards = [1,5,10,15,20,32,77,88]\n",
    "query = 77\n",
    "locate_card(cards,query)"
   ]
  },
  {
   "cell_type": "code",
   "execution_count": 23,
   "id": "ef1778b7",
   "metadata": {},
   "outputs": [
    {
     "name": "stdout",
     "output_type": "stream",
     "text": [
      "the value 129 is in position 5\n"
     ]
    }
   ],
   "source": [
    "cards = [88, 89, 92, 97, 111, 129, 200, 450, 600, 3400]\n",
    "query = 129\n",
    "locate_card(cards,query)"
   ]
  },
  {
   "cell_type": "code",
   "execution_count": 24,
   "id": "be40f981",
   "metadata": {},
   "outputs": [],
   "source": [
    "#taking inputs from the user and then querying to find the position of the number in search"
   ]
  },
  {
   "cell_type": "code",
   "execution_count": 30,
   "id": "c8ae8c25",
   "metadata": {},
   "outputs": [
    {
     "name": "stdout",
     "output_type": "stream",
     "text": [
      "How many elements will be in your list? 2\n",
      "Input the next element in your list/array: 33\n",
      "Input the next element in your list/array: 44\n",
      "what is the number you want to search??22\n"
     ]
    }
   ],
   "source": [
    "num_element = int(input(\"How many elements will be in your list? \"))\n",
    "cards = []\n",
    "\n",
    "for i in range(num_element):\n",
    "    element = input(\"Input the next element in your list/array: \")\n",
    "    cards.append(element)\n",
    "\n",
    "query = input(\"what is the number you want to search??\")\n",
    "\n",
    "locate_card(cards,query)"
   ]
  },
  {
   "cell_type": "code",
   "execution_count": 35,
   "id": "a4fe2fc7",
   "metadata": {},
   "outputs": [
    {
     "data": {
      "text/plain": [
       "'it seem my code does not work efficiently especially when the number being searched is not in the list inputted :('"
      ]
     },
     "execution_count": 35,
     "metadata": {},
     "output_type": "execute_result"
    }
   ],
   "source": [
    "\"\"\"it seem my code does not work efficiently especially when the number being searched is not in the list inputted :(\"\"\" \n"
   ]
  },
  {
   "cell_type": "code",
   "execution_count": 40,
   "id": "0d9e375c",
   "metadata": {},
   "outputs": [
    {
     "name": "stdout",
     "output_type": "stream",
     "text": [
      "query number cannot be found\n"
     ]
    }
   ],
   "source": [
    "#trying to work on the necessary changes\n",
    "def locate_card(cards,query):\n",
    "    low =  0\n",
    "    upp =  len(cards) - 1\n",
    "#     mid = 24\n",
    "    \n",
    "    while low < upp:\n",
    "        mid =  (low + upp) // 2\n",
    "        if cards[mid] < query :\n",
    "            low = mid + 1\n",
    "        elif cards[mid] > query :\n",
    "            upp = mid - 1\n",
    "        elif cards[mid] == query:\n",
    "            print(f\"the value {query} is in position {mid}\")\n",
    "            return\n",
    "    print(\"query number cannot be found\")\n",
    "            \n",
    "            \n",
    "\n",
    "cards = [88, 89, 92, 97, 111, 129, 200, 450, 600, 3400]\n",
    "query = 12\n",
    "locate_card(cards,query)"
   ]
  },
  {
   "cell_type": "code",
   "execution_count": 41,
   "id": "5ad9ecce",
   "metadata": {},
   "outputs": [],
   "source": [
    "#seemed to have worked after a few try :), now lets test it out on input figures"
   ]
  },
  {
   "cell_type": "code",
   "execution_count": 49,
   "id": "949ead15",
   "metadata": {},
   "outputs": [],
   "source": [
    "def locate_card(cards,query):\n",
    "    low =  0\n",
    "    upp =  len(cards) - 1\n",
    "#     mid = 24\n",
    "    \n",
    "    while low <= upp:\n",
    "        mid =  (low + upp) // 2\n",
    "        if cards[mid] < query :\n",
    "            low = mid + 1\n",
    "        elif cards[mid] > query :\n",
    "            upp = mid - 1\n",
    "        elif cards[mid] == query:\n",
    "            print(f\"the value {query} is in position {mid}\")\n",
    "            return\n",
    "    print(\"query number cannot be found\")"
   ]
  },
  {
   "cell_type": "code",
   "execution_count": 50,
   "id": "5a904291",
   "metadata": {},
   "outputs": [
    {
     "name": "stdout",
     "output_type": "stream",
     "text": [
      "How many elements will be in your list? 3\n",
      "Input the next element in your list/array: 22\n",
      "Input the next element in your list/array: 33\n",
      "Input the next element in your list/array: 55\n",
      "what is the number you want to search??55\n",
      "the value 55 is in position 2\n"
     ]
    }
   ],
   "source": [
    "num_element = int(input(\"How many elements will be in your list? \"))\n",
    "cards = []\n",
    "\n",
    "for i in range(num_element):\n",
    "    element = input(\"Input the next element in your list/array: \")\n",
    "    cards.append(element)\n",
    "\n",
    "query = input(\"what is the number you want to search??\")\n",
    "\n",
    "locate_card(cards,query)"
   ]
  },
  {
   "cell_type": "code",
   "execution_count": 51,
   "id": "9e198fb0",
   "metadata": {},
   "outputs": [],
   "source": [
    "#works now!!"
   ]
  },
  {
   "cell_type": "code",
   "execution_count": null,
   "id": "6478d07e",
   "metadata": {},
   "outputs": [],
   "source": []
  }
 ],
 "metadata": {
  "kernelspec": {
   "display_name": "Python 3 (ipykernel)",
   "language": "python",
   "name": "python3"
  },
  "language_info": {
   "codemirror_mode": {
    "name": "ipython",
    "version": 3
   },
   "file_extension": ".py",
   "mimetype": "text/x-python",
   "name": "python",
   "nbconvert_exporter": "python",
   "pygments_lexer": "ipython3",
   "version": "3.10.9"
  }
 },
 "nbformat": 4,
 "nbformat_minor": 5
}
